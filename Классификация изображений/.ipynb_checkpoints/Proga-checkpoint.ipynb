{
 "cells": [
  {
   "cell_type": "markdown",
   "id": "bc43b368",
   "metadata": {},
   "source": [
    "# Классификация изображений MNIST"
   ]
  },
  {
   "cell_type": "markdown",
   "id": "858bc73b",
   "metadata": {},
   "source": [
    "# Что необходимо сделать:\n",
    "\n",
    "## 1) Скачать и подготовить данные\n",
    "## 2) Построить нейросеть\n",
    "## 3) Обучить её распознавать цифры с помощью градиентного спуска"
   ]
  },
  {
   "cell_type": "code",
   "execution_count": 1,
   "id": "682599a0",
   "metadata": {},
   "outputs": [],
   "source": [
    "import tensorflow as tf\n",
    "from keras.utils import to_categorical\n",
    "import matplotlib.pyplot as plt\n",
    "import matplotlib.image as mpimg\n",
    "import numpy as np"
   ]
  },
  {
   "cell_type": "code",
   "execution_count": 2,
   "id": "b2555cf7",
   "metadata": {},
   "outputs": [
    {
     "name": "stdout",
     "output_type": "stream",
     "text": [
      "TensorFlow version: 2.12.0\n"
     ]
    }
   ],
   "source": [
    "mnist = tf.keras.datasets.mnist\n",
    "print(\"TensorFlow version:\", tf.__version__)"
   ]
  },
  {
   "cell_type": "code",
   "execution_count": 3,
   "id": "347b434e",
   "metadata": {},
   "outputs": [],
   "source": [
    "(x_train, y_train), (x_test, y_test) = mnist.load_data()\n",
    "train_images = x_train.reshape((60000, 28, 28, 1))\n",
    "train_images = x_train.astype('float32') / 255\n",
    "\n",
    "test_images = x_test.reshape((10000, 28, 28, 1))\n",
    "test_images = x_test.astype('float32') / 255\n",
    "\n",
    "train_labels = to_categorical(y_train)\n",
    "test_labels = to_categorical(y_test)\n"
   ]
  },
  {
   "cell_type": "code",
   "execution_count": 122,
   "id": "a5648b78",
   "metadata": {},
   "outputs": [
    {
     "data": {
      "text/plain": [
       "(60000,)"
      ]
     },
     "execution_count": 122,
     "metadata": {},
     "output_type": "execute_result"
    }
   ],
   "source": [
    "y_train.shape"
   ]
  },
  {
   "cell_type": "code",
   "execution_count": 123,
   "id": "124607fa",
   "metadata": {},
   "outputs": [
    {
     "data": {
      "text/plain": [
       "(10000, 28, 28)"
      ]
     },
     "execution_count": 123,
     "metadata": {},
     "output_type": "execute_result"
    }
   ],
   "source": [
    "x_test.shape"
   ]
  },
  {
   "cell_type": "code",
   "execution_count": 124,
   "id": "15ade9a7",
   "metadata": {},
   "outputs": [
    {
     "data": {
      "text/plain": [
       "(10000,)"
      ]
     },
     "execution_count": 124,
     "metadata": {},
     "output_type": "execute_result"
    }
   ],
   "source": [
    "y_test.shape"
   ]
  },
  {
   "cell_type": "markdown",
   "id": "c9782256",
   "metadata": {},
   "source": [
    "# Вывод первых 25 изображений"
   ]
  },
  {
   "cell_type": "code",
   "execution_count": 20,
   "id": "7777356b",
   "metadata": {},
   "outputs": [
    {
     "data": {
      "image/png": "[encoded data removed]",
      "text/plain": [
       "<Figure size 1000x1000 with 25 Axes>"
      ]
     },
     "metadata": {},
     "output_type": "display_data"
    }
   ],
   "source": [
    "plt.figure(figsize=(10, 10))\n",
    "for i in range(25):\n",
    "    plt.subplot(5, 5, i+1)\n",
    "    plt.xticks([])\n",
    "    plt.yticks([])\n",
    "    plt.grid(False)\n",
    "    plt.imshow(train_images[i], cmap=plt.cm.binary)\n",
    "plt.show()"
   ]
  },
  {
   "cell_type": "markdown",
   "id": "0b45ef85",
   "metadata": {},
   "source": [
    "# Создание модели, её компиляция и обучение"
   ]
  },
  {
   "cell_type": "code",
   "execution_count": 4,
   "id": "cedf1dbd",
   "metadata": {},
   "outputs": [
    {
     "name": "stdout",
     "output_type": "stream",
     "text": [
      "Model: \"sequential\"\n",
      "_________________________________________________________________\n",
      " Layer (type)                Output Shape              Param #   \n",
      "=================================================================\n",
      " conv2d (Conv2D)             (None, 26, 26, 32)        320       \n",
      "                                                                 \n",
      " max_pooling2d (MaxPooling2D  (None, 13, 13, 32)       0         \n",
      " )                                                               \n",
      "                                                                 \n",
      " conv2d_1 (Conv2D)           (None, 11, 11, 64)        18496     \n",
      "                                                                 \n",
      " max_pooling2d_1 (MaxPooling  (None, 5, 5, 64)         0         \n",
      " 2D)                                                             \n",
      "                                                                 \n",
      " conv2d_2 (Conv2D)           (None, 3, 3, 64)          36928     \n",
      "                                                                 \n",
      " flatten (Flatten)           (None, 576)               0         \n",
      "                                                                 \n",
      " dense (Dense)               (None, 64)                36928     \n",
      "                                                                 \n",
      " dense_1 (Dense)             (None, 10)                650       \n",
      "                                                                 \n",
      "=================================================================\n",
      "Total params: 93,322\n",
      "Trainable params: 93,322\n",
      "Non-trainable params: 0\n",
      "_________________________________________________________________\n"
     ]
    }
   ],
   "source": [
    "model = tf.keras.models.Sequential()\n",
    "model.add(tf.keras.layers.Conv2D(32, (3, 3), activation = 'relu', input_shape = (28, 28, 1)))\n",
    "model.add(tf.keras.layers.MaxPooling2D((2, 2)))\n",
    "model.add(tf.keras.layers.Conv2D(64, (3, 3), activation = 'relu'))\n",
    "model.add(tf.keras.layers.MaxPooling2D((2, 2)))\n",
    "model.add(tf.keras.layers.Conv2D(64, (3, 3), activation = 'relu'))\n",
    "model.add(tf.keras.layers.Flatten())\n",
    "model.add(tf.keras.layers.Dense(units=64, activation='relu'))\n",
    "model.add(tf.keras.layers.Dense(units=10, activation='softmax'))\n",
    "model.summary()"
   ]
  },
  {
   "cell_type": "code",
   "execution_count": 5,
   "id": "370c0fc3",
   "metadata": {},
   "outputs": [],
   "source": [
    "model.compile(optimizer='sgd',\n",
    "              loss='categorical_crossentropy',\n",
    "              metrics=['accuracy'])"
   ]
  },
  {
   "cell_type": "code",
   "execution_count": 6,
   "id": "1a22b6e1",
   "metadata": {},
   "outputs": [
    {
     "name": "stdout",
     "output_type": "stream",
     "text": [
      "Epoch 1/5\n",
      "938/938 [==============================] - 20s 21ms/step - loss: 0.9175 - accuracy: 0.7281\n",
      "Epoch 2/5\n",
      "938/938 [==============================] - 20s 21ms/step - loss: 0.2222 - accuracy: 0.9319\n",
      "Epoch 3/5\n",
      "938/938 [==============================] - 20s 21ms/step - loss: 0.1430 - accuracy: 0.9567\n",
      "Epoch 4/5\n",
      "938/938 [==============================] - 20s 21ms/step - loss: 0.1093 - accuracy: 0.9668\n",
      "Epoch 5/5\n",
      "938/938 [==============================] - 20s 21ms/step - loss: 0.0915 - accuracy: 0.9718\n"
     ]
    },
    {
     "data": {
      "text/plain": [
       "<keras.callbacks.History at 0x23e267162c0>"
      ]
     },
     "execution_count": 6,
     "metadata": {},
     "output_type": "execute_result"
    }
   ],
   "source": [
    "model.fit(train_images, train_labels, epochs=5, batch_size=64)"
   ]
  },
  {
   "cell_type": "code",
   "execution_count": 7,
   "id": "ffd0f654",
   "metadata": {},
   "outputs": [
    {
     "name": "stdout",
     "output_type": "stream",
     "text": [
      "313/313 [==============================] - 1s 3ms/step - loss: 0.0896 - accuracy: 0.9716\n",
      "Потеря: 9.0 %\n",
      "Точность отработки: 97.0 %\n"
     ]
    }
   ],
   "source": [
    "loss, accuracy = model.evaluate(test_images, test_labels)\n",
    "print(f'Потеря: {round(loss, 2) * 100} %')\n",
    "print(f'Точность отработки: {round(accuracy, 2) * 100} %')"
   ]
  },
  {
   "cell_type": "markdown",
   "id": "2f7b4360",
   "metadata": {},
   "source": [
    "# Проверка работоспособности модели "
   ]
  },
  {
   "cell_type": "code",
   "execution_count": 12,
   "id": "19dbaffc",
   "metadata": {},
   "outputs": [
    {
     "name": "stdout",
     "output_type": "stream",
     "text": [
      "1/1 [==============================] - 0s 18ms/step\n"
     ]
    },
    {
     "data": {
      "image/png": "[encoded data removed]",
      "text/plain": [
       "<Figure size 640x480 with 1 Axes>"
      ]
     },
     "metadata": {},
     "output_type": "display_data"
    },
    {
     "name": "stdout",
     "output_type": "stream",
     "text": [
      "[[8.5530472e-12 4.3155787e-10 8.9594748e-10 8.9574242e-10 9.9987423e-01\n",
      "  4.8102805e-07 6.1950310e-08 4.0118312e-08 8.5047148e-05 4.0056933e-05]]\n",
      "Предсказанный класс: 4\n"
     ]
    }
   ],
   "source": [
    "random_index = np.random.randint(0, test_images.shape[0]) # задаём рандомный индекс\n",
    "image = np.expand_dims(test_images[random_index], axis=0) # берём случайное фото из датасета\n",
    "prediction = model.predict(image)\n",
    "\n",
    "plt.imshow(test_images[random_index], cmap = plt.cm.binary)\n",
    "plt.show()\n",
    "\n",
    "print(prediction)\n",
    "print(f'Предсказанный класс: {np.argmax(prediction)}')"
   ]
  }
 ],
 "metadata": {
  "kernelspec": {
   "display_name": "Python 3 (ipykernel)",
   "language": "python",
   "name": "python3"
  },
  "language_info": {
   "codemirror_mode": {
    "name": "ipython",
    "version": 3
   },
   "file_extension": ".py",
   "mimetype": "text/x-python",
   "name": "python",
   "nbconvert_exporter": "python",
   "pygments_lexer": "ipython3",
   "version": "3.10.7"
  }
 },
 "nbformat": 4,
 "nbformat_minor": 5
}
